{
 "cells": [
  {
   "cell_type": "code",
   "execution_count": 25,
   "metadata": {
    "collapsed": false
   },
   "outputs": [],
   "source": [
    "%matplotlib inline\n",
    "import numpy as np\n",
    "import seaborn as sns\n",
    "import matplotlib.pyplot as plt"
   ]
  },
  {
   "cell_type": "markdown",
   "metadata": {},
   "source": [
    "# Chapter 7: Estimation\n",
    "\n",
    "1. Estimators\n",
    "2. Likelihood\n",
    "3. Sampling distributions"
   ]
  },
  {
   "cell_type": "markdown",
   "metadata": {},
   "source": [
    "# Estimators\n",
    "## The problem\n",
    "\n",
    "**Probablity distributions** have parameters and in the ideal world they will be calculated by measuring ever point in the population. **We would need serious £££ to do this!**\n",
    "\n",
    "## The solution\n",
    "**sample** then **estimate**\n",
    "\n",
    "Given:\n",
    "1. $\\{ x_1, x_2, ..., x_n \\} \\in$ Population\n",
    "2. Population is modelled well by some PDF $P$\n",
    "\n",
    "Determine the paramter estimates ($\\overline{\\omega}_1, \\overline{\\omega}_2,... \\overline{\\omega}_n$) that most accuately explains the sample."
   ]
  },
  {
   "cell_type": "markdown",
   "metadata": {},
   "source": [
    "## Estimator\n",
    "A function that goes from a sample $\\{ x_1, x_2, ..., x_n \\}$ to a single paramter $\\overline{\\omega}$.\n",
    "\n",
    "## Estimate\n",
    "The paramter $\\overline{\\omega}$"
   ]
  },
  {
   "cell_type": "markdown",
   "metadata": {},
   "source": [
    "## Example\n",
    "Here's a sample of numbers from the Exponential distribution:\n",
    "\n",
    "$$\\{ 19.34, 5.43, 12.23, 2.45 \\}$$\n",
    "\n",
    "What is the parameter $\\lambda$ of this distribution?"
   ]
  },
  {
   "cell_type": "markdown",
   "metadata": {},
   "source": [
    "## Example\n",
    "$\\{ {x_1, x_2, ..., x_n} \\} \\sim \\mathcal{N}(\\mu,\\,\\sigma^2)$\n",
    "\n",
    "What are $\\mu,\\,\\sigma^2$?"
   ]
  },
  {
   "cell_type": "markdown",
   "metadata": {},
   "source": [
    "## Example\n",
    "What is the height of men living in Europe?"
   ]
  },
  {
   "cell_type": "code",
   "execution_count": 26,
   "metadata": {
    "collapsed": false
   },
   "outputs": [
    {
     "name": "stdout",
     "output_type": "stream",
     "text": [
      "1.73083909576\n",
      "1.19059523949\n",
      "1.45125216589\n",
      "2.05936414128\n",
      "1.62017901119\n",
      "2.09627997616\n"
     ]
    }
   ],
   "source": [
    "sample = np.random.normal(loc=np.random.uniform(1.4, 1.6),\n",
    "                          scale=np.random.uniform(0.5, 1),\n",
    "                          size=6)\n",
    "for x in sample:\n",
    "    print(x)"
   ]
  },
  {
   "cell_type": "markdown",
   "metadata": {},
   "source": [
    "How can we estimate the population mean $\\mu$ and variance $\\sigma^2$?"
   ]
  },
  {
   "cell_type": "markdown",
   "metadata": {},
   "source": [
    "Two answers:\n",
    "\n",
    "1. Intuitive\n",
    "2. Mathematical\n",
    "\n",
    "## Intuitive?"
   ]
  },
  {
   "cell_type": "code",
   "execution_count": null,
   "metadata": {
    "collapsed": false
   },
   "outputs": [],
   "source": []
  },
  {
   "cell_type": "code",
   "execution_count": null,
   "metadata": {
    "collapsed": false
   },
   "outputs": [],
   "source": []
  },
  {
   "cell_type": "markdown",
   "metadata": {},
   "source": [
    "### How well does the intuitive way work?"
   ]
  },
  {
   "cell_type": "code",
   "execution_count": 40,
   "metadata": {
    "collapsed": false
   },
   "outputs": [
    {
     "data": {
      "image/png": "[encoded data removed]",
      "text/plain": [
       "<matplotlib.figure.Figure at 0x10e2e4510>"
      ]
     },
     "metadata": {},
     "output_type": "display_data"
    }
   ],
   "source": [
    "n_trials = 1000\n",
    "mean_error = np.zeros(n_trials)\n",
    "var_error = np.zeros(n_trials)\n",
    "for i in xrange(n_trials):\n",
    "    mean = np.random.uniform(1.4, 1.6)\n",
    "    var = np.random.uniform(0.5, 1)\n",
    "    n = 5\n",
    "    sample = np.random.normal(loc=mean,\n",
    "                              scale=np.sqrt(var),\n",
    "                              size=n)\n",
    "    mean_error[i] = np.mean(sample) - mean\n",
    "    var_error[i] = np.var(sample) - var\n",
    "\n",
    "fig, ax = plt.subplots(1,2)\n",
    "ax[0].plot(mean_error)\n",
    "ax[0].set_title('Mean')\n",
    "ax[0].set_ylim(-2, 2)\n",
    "ax[1].plot(var_error)\n",
    "ax[1].set_title('Variance')\n",
    "ax[1].set_ylim(-2, 2);"
   ]
  },
  {
   "cell_type": "code",
   "execution_count": 41,
   "metadata": {
    "collapsed": false
   },
   "outputs": [
    {
     "data": {
      "text/plain": [
       "0.0017095444416182649"
      ]
     },
     "execution_count": 41,
     "metadata": {},
     "output_type": "execute_result"
    }
   ],
   "source": [
    "np.mean(mean_error)"
   ]
  },
  {
   "cell_type": "code",
   "execution_count": 42,
   "metadata": {
    "collapsed": false
   },
   "outputs": [
    {
     "data": {
      "text/plain": [
       "-0.16139666900011376"
      ]
     },
     "execution_count": 42,
     "metadata": {},
     "output_type": "execute_result"
    }
   ],
   "source": [
    "np.mean(var_error)"
   ]
  },
  {
   "cell_type": "markdown",
   "metadata": {},
   "source": [
    "Mean looks pretty good but variance is underestimated. Does this effect depend on sample size?"
   ]
  },
  {
   "cell_type": "code",
   "execution_count": 30,
   "metadata": {
    "collapsed": false
   },
   "outputs": [
    {
     "data": {
      "image/png": "[encoded data removed]",
      "text/plain": [
       "<matplotlib.figure.Figure at 0x10e139f90>"
      ]
     },
     "metadata": {},
     "output_type": "display_data"
    }
   ],
   "source": [
    "sample_sizes = range(2, 100, 2)\n",
    "var_error = np.zeros(len(sample_sizes))\n",
    "for i, sample_size in enumerate(sample_sizes):\n",
    "    e = []\n",
    "    for j in xrange(500):\n",
    "        mean = np.random.uniform(1.4, 1.6)\n",
    "        var = np.random.uniform(0.5, 1)\n",
    "        n = sample_size\n",
    "        sample = np.random.normal(loc=mean,\n",
    "                                  scale=np.sqrt(var),\n",
    "                                  size=n)\n",
    "        e.append(np.var(sample) - var)\n",
    "    var_error[i] = np.mean(e)\n",
    "\n",
    "plt.plot(sample_sizes, var_error)\n",
    "plt.title('Variance');"
   ]
  },
  {
   "cell_type": "markdown",
   "metadata": {},
   "source": [
    "# Likelihood\n",
    "Why does the intuition work (not work)? The likelihood function can help us here.\n",
    "\n",
    "The probabilty of a sample point $x_1$ drawn from a Normal distribution is:\n",
    "\n",
    "$$\n",
    "P(x_1 \\mid \\mu,\\,\\sigma^2)\n",
    "$$\n",
    "\n",
    "The probability of two consecutive sample points $x_1$, $x_2$ is:\n",
    "\n",
    "$$\n",
    "P(\\{x_1, x_2 \\} \\mid \\mu,\\,\\sigma^2) = P(x_1 \\mid \\mu,\\,\\sigma^2) \\cdot P(x_2 \\mid \\mu,\\,\\sigma^2)\n",
    "$$\n",
    "\n",
    "For $n$ **independently and identically drawn (iid)** sample points, \n",
    "\n",
    "$$\n",
    "P(\\{x_1, x_2, ... , x_n \\} \\mid \\mu,\\,\\sigma^2) = \\prod_i^n P(x_i \\mid \\mu,\\,\\sigma^2)\n",
    "$$\n",
    "\n",
    "Consider now $\\mu,\\,\\sigma^2$ as parameters to tune to maximize the probability of $\\{x_1, x_2, ... , x_n \\}$, this is the likelihood function:\n",
    "\n",
    "$$\n",
    "\\mathcal{L}(\\mu,\\sigma^2)\n",
    "=\\prod_i^n P(x_i \\mid \\mu,\\,\\sigma^2)\n",
    "$$\n",
    "\n",
    "$$\n",
    "\\ln\\mathcal{L}(\\mu,\\sigma^2)\n",
    "= \\sum_{i=1}^n \\ln P(x_i \\mid \\,\\mu,\\sigma^2)\n",
    "= -\\frac{n}{2}\\ln(2\\pi) - \\frac{n}{2}\\ln\\sigma^2 - \\frac{1}{2\\sigma^2}\\sum_{i=1}^n (x_i-\\mu)^2.\n",
    "$$\n",
    "\n",
    "# Maximum Likelihood Estimate\n",
    "To find the $\\mu$ that maximizes the probability, differentiate with respect to $\\mu$ and solve for $\\mu$ to find:\n",
    "\n",
    "$$\n",
    "\\mu_{ML} = \\sum_{i=1}^n x_i\n",
    "$$\n",
    "\n",
    "Similarly for $\\sigma^2$\n",
    "\n",
    "$$\n",
    "\\sigma^2_{ML} = \\frac{1}{n}\\sum_{i=1}^n (x_i - \\mu_{ML})^2\n",
    "$$\n",
    "\n",
    "Consider now the expectations of these quantitites with respect to all possible sample points $x_i$ and we get:\n",
    "\n",
    "$$\n",
    "\\mathbb{E}[\\mu_{ML}] = \\mu\n",
    "$$\n",
    "\n",
    "$$\n",
    "\\mathbb{E}[\\sigma^2_{ML}]  = \\frac{n-1}{n}\\sigma^2\n",
    "$$\n",
    "\n",
    "What this means is that on average, the maximum likelihood will underestimate the variance by a factor of $\\frac{n-1}{n}$."
   ]
  },
  {
   "cell_type": "markdown",
   "metadata": {},
   "source": [
    "What is happening here is that $\\sigma^2_{ML}$ relies upon $\\mu_{ML}$. This leads to bias because:"
   ]
  },
  {
   "cell_type": "markdown",
   "metadata": {},
   "source": [
    "$$\n",
    "\\begin{align}\n",
    "\\mathbb{E}[\\sigma^2_{ML}]\n",
    "    &= \\mathbb{E}\\bigg[ \\frac{1}{n}\\sum_{i=1}^n (x_i-\\mu_{ML})^2 \\bigg]\n",
    "     < \\mathbb{E}\\bigg[ \\frac{1}{n}\\sum_{i=1}^n (x_i-\\mu)^2 \\bigg]  = \\sigma^2.\n",
    "\\end{align}\n",
    "$$"
   ]
  },
  {
   "cell_type": "code",
   "execution_count": 43,
   "metadata": {
    "collapsed": true
   },
   "outputs": [],
   "source": [
    "#Draw some plots for a sample. Use the normal dist function from an earlier notebook."
   ]
  },
  {
   "cell_type": "code",
   "execution_count": 31,
   "metadata": {
    "collapsed": false
   },
   "outputs": [],
   "source": [
    "def L(mean, var, sample):\n",
    "    n = len(sample)\n",
    "    return -n/2. * np.log2(2 * np.pi) - \\\n",
    "            n/2. * np.log2(2 * var) - \\\n",
    "            1/(2 * var) * np.sum((sample - mean)**2)"
   ]
  },
  {
   "cell_type": "markdown",
   "metadata": {},
   "source": [
    "The sample variance $S^2$ is underestimated because the sample mean $\\bar x$will generally not be equal the true mean $\\mu$."
   ]
  }
 ],
 "metadata": {
  "kernelspec": {
   "display_name": "Python 2",
   "language": "python",
   "name": "python2"
  },
  "language_info": {
   "codemirror_mode": {
    "name": "ipython",
    "version": 2
   },
   "file_extension": ".py",
   "mimetype": "text/x-python",
   "name": "python",
   "nbconvert_exporter": "python",
   "pygments_lexer": "ipython2",
   "version": "2.7.10"
  }
 },
 "nbformat": 4,
 "nbformat_minor": 0
}
